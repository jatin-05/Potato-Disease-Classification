{
 "cells": [
  {
   "cell_type": "code",
   "execution_count": 2,
   "id": "bebf25ad-dbf8-4644-8961-1862cd830586",
   "metadata": {},
   "outputs": [],
   "source": [
    "import tensorflow as tf"
   ]
  },
  {
   "cell_type": "code",
   "execution_count": 36,
   "id": "00e7e485-4727-40b8-9e41-d3f41ff5721f",
   "metadata": {},
   "outputs": [],
   "source": [
    "numbers = [1,23,5,6,4,-23,-23,-32,-2332]  "
   ]
  },
  {
   "cell_type": "code",
   "execution_count": 38,
   "id": "c98e230e-0a9a-4da6-b127-05bc95f1227c",
   "metadata": {},
   "outputs": [],
   "source": [
    "tf_dataset = tf.data.Dataset.from_tensor_slices (numbers)"
   ]
  },
  {
   "cell_type": "code",
   "execution_count": 40,
   "id": "ab34665c-324f-4f60-bbcb-adab0d9975e0",
   "metadata": {},
   "outputs": [
    {
     "name": "stdout",
     "output_type": "stream",
     "text": [
      "tf.Tensor(1, shape=(), dtype=int32)\n",
      "tf.Tensor(23, shape=(), dtype=int32)\n",
      "tf.Tensor(5, shape=(), dtype=int32)\n",
      "tf.Tensor(6, shape=(), dtype=int32)\n",
      "tf.Tensor(4, shape=(), dtype=int32)\n",
      "tf.Tensor(-23, shape=(), dtype=int32)\n",
      "tf.Tensor(-23, shape=(), dtype=int32)\n",
      "tf.Tensor(-32, shape=(), dtype=int32)\n",
      "tf.Tensor(-2332, shape=(), dtype=int32)\n"
     ]
    }
   ],
   "source": [
    "for num in tf_dataset :\n",
    "    print(num)"
   ]
  },
  {
   "cell_type": "code",
   "execution_count": 42,
   "id": "2a119f9a-5bf3-4a16-aae0-fd0b6ab126a1",
   "metadata": {},
   "outputs": [
    {
     "name": "stdout",
     "output_type": "stream",
     "text": [
      "1\n",
      "23\n",
      "5\n",
      "6\n",
      "4\n",
      "-23\n",
      "-23\n",
      "-32\n",
      "-2332\n"
     ]
    }
   ],
   "source": [
    "for num in tf_dataset:\n",
    "    print(num.numpy())"
   ]
  },
  {
   "cell_type": "code",
   "execution_count": 44,
   "id": "771395f8-03b0-4ea1-9708-076b314c5e9c",
   "metadata": {},
   "outputs": [
    {
     "name": "stdout",
     "output_type": "stream",
     "text": [
      "1\n",
      "23\n",
      "5\n",
      "6\n",
      "4\n",
      "-23\n",
      "-23\n",
      "-32\n",
      "-2332\n"
     ]
    }
   ],
   "source": [
    "for num in tf_dataset.as_numpy_iterator():\n",
    "    print(num)"
   ]
  },
  {
   "cell_type": "code",
   "execution_count": 46,
   "id": "ca537020-6ce9-4b24-8a4d-12fcd8b21ce9",
   "metadata": {},
   "outputs": [
    {
     "name": "stdout",
     "output_type": "stream",
     "text": [
      "1\n",
      "23\n",
      "5\n"
     ]
    }
   ],
   "source": [
    "for num in tf_dataset.take(3) :\n",
    "    print(num.numpy())"
   ]
  },
  {
   "cell_type": "code",
   "execution_count": 48,
   "id": "9aba001b-7203-49f9-aebc-bb97e1cfbf05",
   "metadata": {},
   "outputs": [
    {
     "name": "stdout",
     "output_type": "stream",
     "text": [
      "1\n",
      "23\n",
      "5\n",
      "6\n",
      "4\n"
     ]
    }
   ],
   "source": [
    "tf_dataset =tf_dataset.filter(lambda x : x> 0 ) \n",
    "# filter removes all the element that do not follow the func\n",
    "for num in tf_dataset:\n",
    "    print(num.numpy())"
   ]
  },
  {
   "cell_type": "code",
   "execution_count": 52,
   "id": "91121e15-b4c7-4f5d-aa79-d48a3e61e30e",
   "metadata": {},
   "outputs": [
    {
     "name": "stdout",
     "output_type": "stream",
     "text": [
      "0.00392156862745098\n",
      "0.09019607843137255\n",
      "0.0196078431372549\n",
      "0.023529411764705882\n",
      "0.01568627450980392\n"
     ]
    }
   ],
   "source": [
    "tf_dataset = tf_dataset.map(lambda x : x/255)\n",
    "# maps to each element and apply that function \n",
    "for num in tf_dataset :\n",
    "    print(num.numpy() )"
   ]
  },
  {
   "cell_type": "code",
   "execution_count": 56,
   "id": "c2bf6cc2-559d-4047-945a-f2a6349cf13e",
   "metadata": {},
   "outputs": [
    {
     "name": "stdout",
     "output_type": "stream",
     "text": [
      "0.00392156862745098\n",
      "0.09019607843137255\n",
      "0.023529411764705882\n",
      "0.01568627450980392\n",
      "0.0196078431372549\n"
     ]
    }
   ],
   "source": [
    "tf_dataset =tf_dataset.shuffle(2)\n",
    "for num in tf_dataset :\n",
    "    print(num.numpy() )"
   ]
  },
  {
   "cell_type": "code",
   "execution_count": 62,
   "id": "311a5069-e2d4-4629-8fe3-6c308e77e260",
   "metadata": {},
   "outputs": [
    {
     "name": "stdout",
     "output_type": "stream",
     "text": [
      "[0.09019608 0.01960784]\n",
      "[0.02352941 0.00392157]\n",
      "[0.01568627]\n"
     ]
    }
   ],
   "source": [
    "new_dataset = tf_dataset.batch(2)\n",
    "for num in new_dataset:\n",
    "    print(num.numpy())"
   ]
  },
  {
   "cell_type": "code",
   "execution_count": 74,
   "id": "2d869fb9-b042-41c7-8ddd-f52507d0e0c2",
   "metadata": {},
   "outputs": [
    {
     "name": "stdout",
     "output_type": "stream",
     "text": [
      "[69  3 12]\n",
      "[18 15]\n"
     ]
    }
   ],
   "source": [
    "# IN ONE LINE \n",
    "tf_dataset = tf.data.Dataset.from_tensor_slices(numbers) \n",
    "tf_dataset = tf_dataset.filter(lambda x: x>0).map(lambda y: y*3).shuffle(4).batch(3)\n",
    "for num in tf_dataset:\n",
    "    print(num.numpy())"
   ]
  },
  {
   "cell_type": "code",
   "execution_count": null,
   "id": "823a5f3e-178d-44cf-ad4e-a66d9565980f",
   "metadata": {},
   "outputs": [],
   "source": []
  }
 ],
 "metadata": {
  "kernelspec": {
   "display_name": "Python 3 (ipykernel)",
   "language": "python",
   "name": "python3"
  },
  "language_info": {
   "codemirror_mode": {
    "name": "ipython",
    "version": 3
   },
   "file_extension": ".py",
   "mimetype": "text/x-python",
   "name": "python",
   "nbconvert_exporter": "python",
   "pygments_lexer": "ipython3",
   "version": "3.12.7"
  }
 },
 "nbformat": 4,
 "nbformat_minor": 5
}
